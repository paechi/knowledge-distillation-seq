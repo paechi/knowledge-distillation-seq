{
  "cells": [
    {
      "cell_type": "code",
      "execution_count": null,
      "metadata": {
        "id": "familiar-glance"
      },
      "outputs": [],
      "source": [
        "import warnings\n",
        "warnings.filterwarnings('ignore')\n",
        "\n",
        "from sklearn.datasets import fetch_20newsgroups\n",
        "from sklearn.metrics import accuracy_score\n",
        "import scipy.sparse\n",
        "\n",
        "import numpy as np\n",
        "import matplotlib.pyplot as plt\n",
        "%matplotlib inline\n",
        "\n",
        "import copy\n",
        "import datetime\n",
        "import random\n",
        "import traceback\n",
        "\n",
        "import collections\n",
        "import re\n",
        "import torch\n",
        "from torch import nn\n",
        "from torch.nn import functional as F\n",
        "from torch.utils.data import Dataset, DataLoader"
      ],
      "id": "familiar-glance"
    },
    {
      "cell_type": "code",
      "execution_count": null,
      "metadata": {
        "id": "operational-stroke"
      },
      "outputs": [],
      "source": [
        "PAD_TOKEN = '__PAD__'\n",
        "TOKEN_RE = re.compile(r'[\\w\\d]+')"
      ],
      "id": "operational-stroke"
    },
    {
      "cell_type": "code",
      "execution_count": null,
      "metadata": {
        "id": "intended-prospect"
      },
      "outputs": [],
      "source": [
        "def tokenize_text_simple_regex(txt, min_token_size=4):\n",
        "    txt = txt.lower()\n",
        "    all_tokens = TOKEN_RE.findall(txt)\n",
        "    return [token for token in all_tokens if len(token) >= min_token_size]\n",
        "\n",
        "def tokenize_corpus(text, tokenizer=tokenize_text_simple_regex):\n",
        "    return [tokenizer(sentence) for sentence in text]"
      ],
      "id": "intended-prospect"
    },
    {
      "cell_type": "code",
      "execution_count": null,
      "metadata": {
        "id": "metallic-header"
      },
      "outputs": [],
      "source": [
        "def build_vocabulary(tokenized_texts, max_size=1000000, max_doc_freq=0.8, min_count=5, pad_word=None):\n",
        "    word_counts = collections.defaultdict(int)\n",
        "    doc_n = 0\n",
        "\n",
        "    # посчитать количество документов, в которых употребляется каждое слово\n",
        "    # а также общее количество документов\n",
        "    for txt in tokenized_texts:\n",
        "        doc_n += 1\n",
        "        unique_text_tokens = set(txt)\n",
        "        for token in unique_text_tokens:\n",
        "            word_counts[token] += 1\n",
        "\n",
        "    # убрать слишком редкие и слишком частые слова\n",
        "    word_counts = {word: cnt for word, cnt in word_counts.items()\n",
        "                   if cnt >= min_count and cnt / doc_n <= max_doc_freq}\n",
        "\n",
        "    # отсортировать слова по убыванию частоты\n",
        "    sorted_word_counts = sorted(word_counts.items(),\n",
        "                                reverse=True,\n",
        "                                key=lambda pair: pair[1])\n",
        "\n",
        "    # добавим несуществующее слово с индексом 0 для удобства пакетной обработки\n",
        "    if pad_word is not None:\n",
        "        sorted_word_counts = [(pad_word, 0)] + sorted_word_counts\n",
        "\n",
        "    # если у нас по прежнему слишком много слов, оставить только max_size самых частотных\n",
        "    if len(word_counts) > max_size:\n",
        "        sorted_word_counts = sorted_word_counts[:max_size]\n",
        "\n",
        "    # нумеруем слова\n",
        "    word2id = {word: i for i, (word, _) in enumerate(sorted_word_counts)}\n",
        "\n",
        "    # нормируем частоты слов\n",
        "    word2freq = np.array([cnt / doc_n for _, cnt in sorted_word_counts], dtype='float32')\n",
        "\n",
        "    return word2id, word2freq"
      ],
      "id": "metallic-header"
    },
    {
      "cell_type": "code",
      "execution_count": null,
      "metadata": {
        "id": "threatened-wrong"
      },
      "outputs": [],
      "source": [
        "def vectorize_texts(tokenized_texts, word2id, word2freq, mode='tfidf', scale=True):\n",
        "    assert mode in {'tfidf', 'idf', 'tf', 'bin'}\n",
        "\n",
        "    # считаем количество употреблений каждого слова в каждом документе\n",
        "    result = scipy.sparse.dok_matrix((len(tokenized_texts), len(word2id)), dtype='float32')\n",
        "    for text_i, text in enumerate(tokenized_texts):\n",
        "        for token in text:\n",
        "            if token in word2id:\n",
        "                result[text_i, word2id[token]] += 1\n",
        "\n",
        "    # получаем бинарные вектора \"встречается или нет\"\n",
        "    if mode == 'bin':\n",
        "        result = (result > 0).astype('float32')\n",
        "\n",
        "    # получаем вектора относительных частот слова в документе\n",
        "    elif mode == 'tf':\n",
        "        result = result.tocsr()\n",
        "        result = result.multiply(1 / result.sum(1))\n",
        "\n",
        "    # полностью убираем информацию о количестве употреблений слова в данном документе,\n",
        "    # но оставляем информацию о частотности слова в корпусе в целом\n",
        "    elif mode == 'idf':\n",
        "        result = (result > 0).astype('float32').multiply(1 / word2freq)\n",
        "\n",
        "    # учитываем всю информацию, которая у нас есть:\n",
        "    # частоту слова в документе и частоту слова в корпусе\n",
        "    elif mode == 'tfidf':\n",
        "        result = result.tocsr()\n",
        "        result = result.multiply(1 / result.sum(1))  # разделить каждую строку на её длину\n",
        "        result = result.multiply(1 / word2freq)  # разделить каждый столбец на вес слова\n",
        "\n",
        "    if scale:\n",
        "        result = result.tocsc()\n",
        "        result -= result.min()\n",
        "        result /= (result.max() + 1e-6)\n",
        "\n",
        "    return result.tocsr()"
      ],
      "id": "threatened-wrong"
    },
    {
      "cell_type": "code",
      "execution_count": null,
      "metadata": {
        "colab": {
          "background_save": true,
          "base_uri": "https://localhost:8080/"
        },
        "id": "purple-capability",
        "outputId": "0b5f523f-1cba-4840-9346-d8aee53302e5"
      },
      "outputs": [
        {
          "name": "stderr",
          "output_type": "stream",
          "text": [
            "Downloading 20news dataset. This may take a few minutes.\n",
            "Downloading dataset from https://ndownloader.figshare.com/files/5975967 (14 MB)\n"
          ]
        },
        {
          "name": "stdout",
          "output_type": "stream",
          "text": [
            "Количество обучающих текстов 11314\n",
            "Количество тестовых текстов 7532\n",
            "\n",
            "From: lerxst@wam.umd.edu (where's my thing)\n",
            "Subject: WHAT car is this!?\n",
            "Nntp-Posting-Host: rac3.wam.umd.edu\n",
            "Organization: University of Maryland, College Park\n",
            "Lines: 15\n",
            "\n",
            " I was wondering if anyone out there could enlighten me on this car I saw\n",
            "the other day. It was a 2-door sports car, looked to be from the late 60s/\n",
            "early 70s. It was called a Bricklin. The doors were really small. In addition,\n",
            "the front bumper was separate from the rest of the body. This is \n",
            "all I know. If anyone can tellme a model name, engine specs, years\n",
            "of production, where this car is made, history, or whatever info you\n",
            "have on this funky looking car, please e-mail.\n",
            "\n",
            "Thanks,\n",
            "- IL\n",
            "   ---- brought to you by your neighborhood Lerxst ----\n",
            "\n",
            "Метка 7\n"
          ]
        }
      ],
      "source": [
        "train_source = fetch_20newsgroups(subset='train')\n",
        "test_source = fetch_20newsgroups(subset='test')\n",
        "\n",
        "print('Количество обучающих текстов', len(train_source['data']))\n",
        "print('Количество тестовых текстов', len(test_source['data']))\n",
        "print()\n",
        "print(train_source['data'][0].strip())\n",
        "\n",
        "print()\n",
        "print('Метка', train_source['target'][0])"
      ],
      "id": "purple-capability"
    },
    {
      "cell_type": "code",
      "execution_count": null,
      "metadata": {
        "colab": {
          "base_uri": "https://localhost:8080/"
        },
        "id": "rotary-tiffany",
        "outputId": "f1c1ac8a-c793-41ba-c232-f70bebf2cfce",
        "scrolled": true
      },
      "outputs": [
        {
          "name": "stdout",
          "output_type": "stream",
          "text": [
            "from lerxst where thing subject what this nntp posting host rac3 organization university maryland college park lines wondering anyone there could enlighten this other door sports looked from late early called bricklin doors were really small addition front bumper separate from rest body this know anyone tellme model name engine specs years production where this made history whatever info have this funky looking please mail thanks brought your neighborhood lerxst\n"
          ]
        }
      ],
      "source": [
        "train_tokenized = tokenize_corpus(train_source['data'])\n",
        "test_tokenized = tokenize_corpus(test_source['data'])\n",
        "\n",
        "print(' '.join(train_tokenized[0]))"
      ],
      "id": "rotary-tiffany"
    },
    {
      "cell_type": "code",
      "execution_count": null,
      "metadata": {
        "colab": {
          "base_uri": "https://localhost:8080/",
          "height": 316
        },
        "id": "practical-sentence",
        "outputId": "da260050-3eae-41c2-b8d7-9bdb04df2c61"
      },
      "outputs": [
        {
          "name": "stdout",
          "output_type": "stream",
          "text": [
            "Количество уникальных токенов 21628\n",
            "[('that', 0), ('this', 1), ('have', 2), ('with', 3), ('writes', 4), ('article', 5), ('posting', 6), ('host', 7), ('nntp', 8), ('there', 9)]\n"
          ]
        },
        {
          "data": {
            "image/png": "[encoded data removed]",
            "text/plain": [
              "<Figure size 432x288 with 1 Axes>"
            ]
          },
          "metadata": {
            "tags": []
          },
          "output_type": "display_data"
        }
      ],
      "source": [
        "MAX_DF = 0.8\n",
        "MIN_COUNT = 5\n",
        "vocabulary, word_doc_freq = build_vocabulary(train_tokenized, max_doc_freq=MAX_DF, min_count=MIN_COUNT)\n",
        "UNIQUE_WORDS_N = len(vocabulary)\n",
        "print('Количество уникальных токенов', UNIQUE_WORDS_N)\n",
        "print(list(vocabulary.items())[:10])\n",
        "\n",
        "plt.hist(word_doc_freq, bins=20)\n",
        "plt.title('Распределение относительных частот слов')\n",
        "plt.yscale('log');"
      ],
      "id": "practical-sentence"
    },
    {
      "cell_type": "code",
      "execution_count": null,
      "metadata": {
        "colab": {
          "base_uri": "https://localhost:8080/"
        },
        "id": "irish-scheduling",
        "outputId": "a585c799-adc1-40ad-ce75-f9af3a243cb9"
      },
      "outputs": [
        {
          "name": "stdout",
          "output_type": "stream",
          "text": [
            "Размерность матрицы признаков обучающей выборки (11314, 21628)\n",
            "Размерность матрицы признаков тестовой выборки (7532, 21628)\n",
            "\n",
            "Количество ненулевых элементов в обучающей выборке 1126792\n",
            "Процент заполненности матрицы признаков 0.46%\n",
            "\n",
            "Количество ненулевых элементов в тестовой выборке 721529\n",
            "Процент заполненности матрицы признаков 0.44%\n"
          ]
        }
      ],
      "source": [
        "VECTORIZATION_MODE = 'tfidf'\n",
        "train_vectors = vectorize_texts(train_tokenized, vocabulary, word_doc_freq, mode=VECTORIZATION_MODE)\n",
        "test_vectors = vectorize_texts(test_tokenized, vocabulary, word_doc_freq, mode=VECTORIZATION_MODE)\n",
        "\n",
        "print('Размерность матрицы признаков обучающей выборки', train_vectors.shape)\n",
        "print('Размерность матрицы признаков тестовой выборки', test_vectors.shape)\n",
        "print()\n",
        "print('Количество ненулевых элементов в обучающей выборке', train_vectors.nnz)\n",
        "print('Процент заполненности матрицы признаков {:.2f}%'.format(train_vectors.nnz * 100 / (train_vectors.shape[0] * train_vectors.shape[1])))\n",
        "print()\n",
        "print('Количество ненулевых элементов в тестовой выборке', test_vectors.nnz)\n",
        "print('Процент заполненности матрицы признаков {:.2f}%'.format(test_vectors.nnz * 100 / (test_vectors.shape[0] * test_vectors.shape[1])))"
      ],
      "id": "irish-scheduling"
    },
    {
      "cell_type": "code",
      "execution_count": null,
      "metadata": {
        "colab": {
          "base_uri": "https://localhost:8080/",
          "height": 281
        },
        "id": "express-volunteer",
        "outputId": "40243a0b-1f5e-4447-bc28-4589a2ae4373"
      },
      "outputs": [
        {
          "data": {
            "image/png": "[encoded data removed]",
            "text/plain": [
              "<Figure size 432x288 with 1 Axes>"
            ]
          },
          "metadata": {
            "tags": []
          },
          "output_type": "display_data"
        }
      ],
      "source": [
        "plt.hist(train_vectors.data, bins=20)\n",
        "plt.title('Распределение весов признаков')\n",
        "plt.yscale('log');"
      ],
      "id": "express-volunteer"
    },
    {
      "cell_type": "code",
      "execution_count": null,
      "metadata": {
        "colab": {
          "base_uri": "https://localhost:8080/"
        },
        "id": "outside-power",
        "outputId": "bb559a25-c4f5-4325-b2a7-d0e8a1bfe85c"
      },
      "outputs": [
        {
          "name": "stdout",
          "output_type": "stream",
          "text": [
            "Количество уникальных меток 20\n"
          ]
        }
      ],
      "source": [
        "UNIQUE_LABELS_N = len(set(train_source['target']))\n",
        "print('Количество уникальных меток', UNIQUE_LABELS_N)"
      ],
      "id": "outside-power"
    },
    {
      "cell_type": "code",
      "execution_count": null,
      "metadata": {
        "colab": {
          "base_uri": "https://localhost:8080/",
          "height": 281
        },
        "id": "patent-little",
        "outputId": "c8a46d05-1fc2-4b2f-903c-30808901cdfb"
      },
      "outputs": [
        {
          "data": {
            "image/png": "[encoded data removed]",
            "text/plain": [
              "<Figure size 432x288 with 1 Axes>"
            ]
          },
          "metadata": {
            "tags": []
          },
          "output_type": "display_data"
        }
      ],
      "source": [
        "plt.hist(train_source['target'], bins=np.arange(0, 21))\n",
        "plt.title('Распределение меток в обучающей выборке');"
      ],
      "id": "patent-little"
    },
    {
      "cell_type": "code",
      "execution_count": null,
      "metadata": {
        "colab": {
          "base_uri": "https://localhost:8080/",
          "height": 281
        },
        "id": "manufactured-skill",
        "outputId": "455e1612-8596-4022-a373-e4e6dd7491a1"
      },
      "outputs": [
        {
          "data": {
            "image/png": "[encoded data removed]",
            "text/plain": [
              "<Figure size 432x288 with 1 Axes>"
            ]
          },
          "metadata": {
            "tags": []
          },
          "output_type": "display_data"
        }
      ],
      "source": [
        "plt.hist(test_source['target'], bins=np.arange(0, 21))\n",
        "plt.title('Распределение меток в тестовой выборке');"
      ],
      "id": "manufactured-skill"
    },
    {
      "cell_type": "markdown",
      "metadata": {
        "id": "important-picking"
      },
      "source": [
        "## Train Simple Logistic Regression"
      ],
      "id": "important-picking"
    },
    {
      "cell_type": "code",
      "execution_count": null,
      "metadata": {
        "id": "canadian-halifax"
      },
      "outputs": [],
      "source": [
        "from sklearn.feature_extraction.text import TfidfVectorizer\n",
        "from sklearn.pipeline import Pipeline\n",
        "from sklearn.linear_model import LogisticRegression\n",
        "\n",
        "sklearn_pipeline = Pipeline((('vect', TfidfVectorizer(tokenizer=tokenize_text_simple_regex,\n",
        "                                                      max_df=MAX_DF,\n",
        "                                                      min_df=MIN_COUNT)),\n",
        "                             ('cls', LogisticRegression())))\n",
        "sklearn_pipeline.fit(train_source['data'], train_source['target']);"
      ],
      "id": "canadian-halifax"
    },
    {
      "cell_type": "code",
      "execution_count": null,
      "metadata": {
        "colab": {
          "base_uri": "https://localhost:8080/"
        },
        "id": "realistic-auckland",
        "outputId": "1ac29089-59fb-45ef-cc60-145d5b4ed0fd"
      },
      "outputs": [
        {
          "name": "stdout",
          "output_type": "stream",
          "text": [
            "Среднее значение функции потерь на обучении 2.49547889185785\n",
            "Доля верных ответов 0.9716280714159449\n",
            "\n",
            "Среднее значение функции потерь на валидации 2.6539022582336975\n",
            "Доля верных ответов 0.8190387679235263\n"
          ]
        }
      ],
      "source": [
        "sklearn_train_pred = sklearn_pipeline.predict_proba(train_source['data'])\n",
        "sklearn_train_loss = F.cross_entropy(torch.from_numpy(sklearn_train_pred),\n",
        "                                                 torch.from_numpy(train_source['target']))\n",
        "print('Среднее значение функции потерь на обучении', float(sklearn_train_loss))\n",
        "print('Доля верных ответов', accuracy_score(train_source['target'], sklearn_train_pred.argmax(-1)))\n",
        "print()\n",
        "\n",
        "sklearn_test_pred = sklearn_pipeline.predict_proba(test_source['data'])\n",
        "sklearn_test_loss = F.cross_entropy(torch.from_numpy(sklearn_test_pred),\n",
        "                                                torch.from_numpy(test_source['target']))\n",
        "print('Среднее значение функции потерь на валидации', float(sklearn_test_loss))\n",
        "print('Доля верных ответов', accuracy_score(test_source['target'], sklearn_test_pred.argmax(-1)))"
      ],
      "id": "realistic-auckland"
    },
    {
      "cell_type": "code",
      "execution_count": null,
      "metadata": {
        "id": "durable-cocktail"
      },
      "outputs": [],
      "source": [
        ""
      ],
      "id": "durable-cocktail"
    },
    {
      "cell_type": "markdown",
      "metadata": {
        "id": "athletic-volunteer"
      },
      "source": [
        "## Обучение модели на PyTorch"
      ],
      "id": "athletic-volunteer"
    },
    {
      "cell_type": "code",
      "execution_count": null,
      "metadata": {
        "id": "happy-greensboro"
      },
      "outputs": [],
      "source": [
        "class SparseFeaturesDataset(Dataset):\n",
        "    def __init__(self, features, targets):\n",
        "        self.features = features\n",
        "        self.targets = targets\n",
        "\n",
        "    def __len__(self):\n",
        "        return self.features.shape[0]\n",
        "\n",
        "    def __getitem__(self, idx):\n",
        "        cur_features = torch.from_numpy(self.features[idx].toarray()[0]).float()\n",
        "        cur_label = torch.from_numpy(np.asarray(self.targets[idx])).long()\n",
        "        return cur_features, cur_label"
      ],
      "id": "happy-greensboro"
    },
    {
      "cell_type": "code",
      "execution_count": null,
      "metadata": {
        "id": "y1Dr6pGapxSg"
      },
      "outputs": [],
      "source": [
        "def evaluate(model, dataset, max_ex=0):\n",
        "    acc = 0\n",
        "    N = len(dataset) * batch_size\n",
        "    for i, (features, labels) in enumerate(dataset):\n",
        "        features = features.to(device)\n",
        "        labels = labels.to(device)\n",
        "        scores = model(features)\n",
        "        pred = torch.argmax(scores, dim=1)\n",
        "        acc += torch.sum(torch.eq(pred, labels)).item()\n",
        "        if max_ex != 0 and i >= max_ex:\n",
        "            break\n",
        "    # print(i)\n",
        "    return (acc * 100 / ((i+1) * batch_size) )"
      ],
      "id": "y1Dr6pGapxSg"
    },
    {
      "cell_type": "markdown",
      "metadata": {
        "id": "stainless-buying"
      },
      "source": [
        "### Teacher Network"
      ],
      "id": "stainless-buying"
    },
    {
      "cell_type": "code",
      "execution_count": null,
      "metadata": {
        "id": "assisted-clinic"
      },
      "outputs": [],
      "source": [
        "class DNN(nn.Module):\n",
        "    def __init__(self, input_size, output_size, dropout=0.5):\n",
        "        super(DNN, self).__init__()\n",
        "        self.relu = nn.ReLU()\n",
        "        self.dropout = nn.Dropout(p=dropout)\n",
        "        self.linear_1 = nn.Linear(input_size, 1200)\n",
        "        self.linear_2 = nn.Linear(1200, 1200)\n",
        "        self.linear_3 = nn.Linear(1200, 600)\n",
        "        self.linear_4 = nn.Linear(600, output_size)\n",
        "\n",
        "    def forward(self, input):\n",
        "        scores = self.linear_1(input)\n",
        "        scores = self.relu(scores)\n",
        "        scores = self.linear_2(scores)\n",
        "        scores = self.relu(scores)\n",
        "        scores = self.linear_3(scores)\n",
        "        scores = self.relu(scores)\n",
        "        scores = self.dropout(scores)\n",
        "        scores = self.linear_4(scores)\n",
        "        return scores"
      ],
      "id": "assisted-clinic"
    },
    {
      "cell_type": "code",
      "execution_count": null,
      "metadata": {
        "colab": {
          "background_save": true
        },
        "id": "secret-israel"
      },
      "outputs": [],
      "source": [
        "train_dataset = SparseFeaturesDataset(train_vectors, train_source['target'])\n",
        "val_dataset = SparseFeaturesDataset(test_vectors, test_source['target'])"
      ],
      "id": "secret-israel"
    },
    {
      "cell_type": "code",
      "execution_count": null,
      "metadata": {
        "id": "dutch-cartridge"
      },
      "outputs": [],
      "source": [
        "lr=5e-3\n",
        "epochs=20\n",
        "batch_size=1000"
      ],
      "id": "dutch-cartridge"
    },
    {
      "cell_type": "code",
      "execution_count": null,
      "metadata": {
        "id": "4HRMkypun7qP"
      },
      "outputs": [],
      "source": [
        "train_dataloader = DataLoader(train_dataset, batch_size=batch_size, shuffle=True)\n",
        "val_dataloader = DataLoader(val_dataset, batch_size=batch_size, shuffle=False)"
      ],
      "id": "4HRMkypun7qP"
    },
    {
      "cell_type": "code",
      "execution_count": null,
      "metadata": {
        "colab": {
          "background_save": true
        },
        "id": "RO-bNt7scTD8"
      },
      "outputs": [],
      "source": [
        "model = DNN(UNIQUE_WORDS_N, UNIQUE_LABELS_N).to(device)\n",
        "criterion = nn.CrossEntropyLoss()\n",
        "optimizer = torch.optim.Adam(model.parameters(), lr=lr)"
      ],
      "id": "RO-bNt7scTD8"
    },
    {
      "cell_type": "code",
      "execution_count": null,
      "metadata": {
        "colab": {
          "base_uri": "https://localhost:8080/"
        },
        "id": "dGYWk_0Cox2j",
        "outputId": "1543d60d-15ee-4d74-ebf9-e46e57dbfb38"
      },
      "outputs": [
        {
          "name": "stdout",
          "output_type": "stream",
          "text": [
            "Epoch: 0, 6.86 sec\n",
            "Mean train loss 2.9868215123812356\n",
            "\n",
            "Epoch: 1, 2.57 sec\n",
            "Mean train loss 2.526939789454142\n",
            "\n",
            "Epoch: 2, 2.58 sec\n",
            "Mean train loss 1.6921601593494415\n",
            "\n",
            "Epoch: 3, 2.54 sec\n",
            "Mean train loss 1.0785684287548065\n",
            "\n",
            "Epoch: 4, 2.75 sec\n",
            "Mean train loss 0.5881364817420641\n",
            "\n",
            "Epoch: 5, 2.58 sec\n",
            "Mean train loss 0.25086018443107605\n",
            "\n",
            "Epoch: 6, 2.59 sec\n",
            "Mean train loss 0.1071532132724921\n",
            "\n",
            "Epoch: 7, 2.56 sec\n",
            "Mean train loss 0.05398307057718436\n",
            "\n",
            "Epoch: 8, 6.76 sec\n",
            "Mean train loss 0.03571020967016617\n",
            "\n",
            "Epoch: 9, 2.56 sec\n",
            "Mean train loss 0.024697011181463797\n",
            "\n",
            "Epoch: 10, 2.59 sec\n",
            "Mean train loss 0.020301290632536013\n",
            "\n",
            "Epoch: 11, 2.58 sec\n",
            "Mean train loss 0.01797020675924917\n",
            "\n",
            "Epoch: 12, 2.54 sec\n",
            "Mean train loss 0.014106585062108934\n",
            "\n",
            "Epoch: 13, 2.76 sec\n",
            "Mean train loss 0.010898301746541014\n",
            "\n",
            "Epoch: 14, 2.56 sec\n",
            "Mean train loss 0.006617743230890483\n",
            "\n",
            "Epoch: 15, 2.55 sec\n",
            "Mean train loss 0.010579523863270879\n",
            "\n",
            "Epoch: 16, 6.60 sec\n",
            "Mean train loss 0.007107668789103627\n",
            "\n",
            "Epoch: 17, 2.76 sec\n",
            "Mean train loss 0.01088367605310244\n",
            "\n",
            "Epoch: 18, 2.57 sec\n",
            "Mean train loss 0.008927841467084363\n",
            "\n",
            "Epoch: 19, 2.58 sec\n",
            "Mean train loss 0.008914983986566464\n",
            "\n"
          ]
        }
      ],
      "source": [
        "train_loss = []\n",
        "train_acc = []\n",
        "val_acc = []\n",
        "it = 0\n",
        "for epoch in range(epochs):\n",
        "    mean_train_loss = 0\n",
        "    train_batches_n = 0\n",
        "    epoch_start = datetime.datetime.now()\n",
        "    for X, y in train_dataloader:\n",
        "        X = X.to(device)\n",
        "        y = y.to(device)\n",
        "        \n",
        "        scores = model(X)\n",
        "        loss = criterion(scores, y)\n",
        "\n",
        "        optimizer.zero_grad()\n",
        "        loss.backward()\n",
        "        optimizer.step()\n",
        "\n",
        "        mean_train_loss += float(loss)\n",
        "        train_batches_n += 1\n",
        "        train_loss.append(loss.item())\n",
        "        \n",
        "        if it % 100 == 0:\n",
        "            train_acc.append(evaluate(model, train_dataloader, max_ex=100))\n",
        "            val_acc.append(evaluate(model, val_dataloader))\n",
        "            # plot_loss(train_loss, it, it_per_epoch, base_name=output_dir + \"loss_\"+title, title=title)\n",
        "            # plot_acc(train_acc, val_acc, it, it_per_epoch, base_name=output_dir + \"acc_\"+title, title=title)\n",
        "        it += 1\n",
        "\n",
        "    mean_train_loss /= train_batches_n\n",
        "    print('Epoch: {}, {:0.2f} sec'.format(epoch,(datetime.datetime.now() - epoch_start).total_seconds()))\n",
        "    print('Mean train loss', mean_train_loss)\n",
        "    print()"
      ],
      "id": "dGYWk_0Cox2j"
    },
    {
      "cell_type": "code",
      "execution_count": null,
      "metadata": {
        "colab": {
          "background_save": true
        },
        "id": "GgcjG7_ep_92",
        "outputId": "57caa887-881a-4b50-ddd1-0614554b7436"
      },
      "outputs": [
        {
          "name": "stdout",
          "output_type": "stream",
          "text": [
            "\n",
            "Train accuracy: 94.20%\n",
            "Validation accuracy: 49.77%\n"
          ]
        }
      ],
      "source": [
        "train_acc.append(evaluate(model, train_dataloader, max_ex=100))\n",
        "val_acc.append(evaluate(model, val_dataloader))\n",
        "\n",
        "train_acc = evaluate(model, train_dataloader)\n",
        "print(\"\\nTrain accuracy: %.2f%%\" % train_acc)\n",
        "val_acc = evaluate(model,val_dataloader)\n",
        "print(\"Validation accuracy: %.2f%%\" % val_acc)"
      ],
      "id": "GgcjG7_ep_92"
    },
    {
      "cell_type": "markdown",
      "metadata": {
        "id": "social-photograph"
      },
      "source": [
        "### Student Network"
      ],
      "id": "social-photograph"
    },
    {
      "cell_type": "code",
      "execution_count": null,
      "metadata": {
        "id": "relevant-spanish"
      },
      "outputs": [],
      "source": [
        "class small_DNN(nn.Module):\n",
        "    def __init__(self, vocab_size, num_labels):\n",
        "        super(small_DNN, self).__init__()\n",
        "        self.linear_relu_stack = nn.Sequential(\n",
        "            nn.Linear(vocab_size, 50),\n",
        "            nn.ReLU(),\n",
        "            nn.Linear(50, num_labels)\n",
        "        )"
      ],
      "id": "relevant-spanish"
    },
    {
      "cell_type": "code",
      "execution_count": null,
      "metadata": {
        "id": "radio-quest"
      },
      "outputs": [],
      "source": [
        "softmax_op = nn.Softmax(dim=1)\n",
        "mseloss_fn = nn.MSELoss()\n",
        "\n",
        "def loss_func(scores, targets, temperature = 5):\n",
        "    soft_pred = softmax_op(scores / temperature)\n",
        "    soft_targets = softmax_op(targets / temperature)\n",
        "    loss = mseloss_fn(soft_pred, soft_targets)\n",
        "    return loss"
      ],
      "id": "radio-quest"
    },
    {
      "cell_type": "code",
      "execution_count": null,
      "metadata": {
        "id": "bright-treaty"
      },
      "outputs": [],
      "source": [
        "def distill_train_eval_loop(small_model, big_model, temp, train_dataset, val_dataset,\n",
        "                    lr=1e-4, epoch_n=10, batch_size=32,\n",
        "                    device=None, early_stopping_patience=10, \n",
        "                    max_batches_per_epoch_train=10000,\n",
        "                    max_batches_per_epoch_val=1000,\n",
        "                    data_loader_ctor=DataLoader,\n",
        "                    optimizer_ctor=None,\n",
        "                    shuffle_train=True,\n",
        "                    dataloader_workers_n=0):\n",
        "\n",
        "\n",
        "\n",
        "    optimizer = torch.optim.Adam(model.parameters(), lr=lr)\n",
        "\n",
        "    train_dataloader = data_loader_ctor(train_dataset, batch_size=batch_size, shuffle=shuffle_train,\n",
        "                                        num_workers=dataloader_workers_n)\n",
        "    val_dataloader = data_loader_ctor(val_dataset, batch_size=batch_size, shuffle=False,\n",
        "                                      num_workers=dataloader_workers_n)\n",
        "\n",
        "    best_val_loss = float('inf')\n",
        "    best_epoch_i = 0\n",
        "    best_model = copy.deepcopy(model)\n",
        "\n",
        "    for epoch_i in range(epoch_n):\n",
        "        try:\n",
        "            epoch_start = datetime.datetime.now()\n",
        "            print('Эпоха {}'.format(epoch_i))\n",
        "\n",
        "            model.train()\n",
        "            mean_train_loss = 0\n",
        "            train_batches_n = 0\n",
        "            for batch_i, (batch_x, batch_y) in enumerate(train_dataloader):\n",
        "                if batch_i > max_batches_per_epoch_train:\n",
        "                    break\n",
        "                \n",
        "                batch_x = batch_x.to(device)\n",
        "                batch_y = batch_y.to(device)\n",
        "                \n",
        "                preds = small_model(batch_x)\n",
        "                targets = big_model(batch_y)\n",
        "                loss = my_loss(preds, targets, temperature = temp)\n",
        "\n",
        "                optimizer.zero_grad()\n",
        "                loss.backward()\n",
        "                optimizer.step()\n",
        "\n",
        "                mean_train_loss += float(loss)\n",
        "                train_batches_n += 1\n",
        "\n",
        "            mean_train_loss /= train_batches_n\n",
        "            print('Эпоха: {} итераций, {:0.2f} сек'.format(train_batches_n,\n",
        "                                                           (datetime.datetime.now() - epoch_start).total_seconds()))\n",
        "            print('Среднее значение функции потерь на обучении', mean_train_loss)\n",
        "\n",
        "            model.eval()\n",
        "            mean_val_loss = 0\n",
        "            val_batches_n = 0\n",
        "\n",
        "            with torch.no_grad():\n",
        "                for batch_i, (batch_x, batch_y) in enumerate(val_dataloader):\n",
        "                    if batch_i > max_batches_per_epoch_val:\n",
        "                        break\n",
        "                    batch_x = batch_x.to(device)\n",
        "                    batch_y = batch_y.to(device)\n",
        "                    \n",
        "                    preds = small_model(batch_x)\n",
        "                    targets = big_model(batch_y)\n",
        "                    loss = my_loss(preds, targets, temperature = temp)\n",
        "\n",
        "                    mean_val_loss += float(loss)\n",
        "                    val_batches_n += 1\n",
        "\n",
        "            mean_val_loss /= val_batches_n\n",
        "            print('Среднее значение функции потерь на валидации', mean_val_loss)\n",
        "\n",
        "            if mean_val_loss < best_val_loss:\n",
        "                best_epoch_i = epoch_i\n",
        "                best_val_loss = mean_val_loss\n",
        "                best_model = copy.deepcopy(model)\n",
        "                print('Новая лучшая модель!')\n",
        "            elif epoch_i - best_epoch_i > early_stopping_patience:\n",
        "                print('Модель не улучшилась за последние {} эпох, прекращаем обучение'.format(\n",
        "                    early_stopping_patience))\n",
        "                break\n",
        "\n",
        "            print()\n",
        "        except KeyboardInterrupt:\n",
        "            print('Досрочно остановлено пользователем')\n",
        "            break\n",
        "        except Exception as ex:\n",
        "            print('Ошибка при обучении: {}\\n{}'.format(ex, traceback.format_exc()))\n",
        "            break\n",
        "\n",
        "    return best_val_loss, best_model"
      ],
      "id": "bright-treaty"
    },
    {
      "cell_type": "code",
      "execution_count": null,
      "metadata": {
        "id": "ordinary-solomon"
      },
      "outputs": [],
      "source": [
        "big_model = DNN(UNIQUE_WORDS_N, UNIQUE_LABELS_N).to(device)\n",
        "small_model = small_DNN(UNIQUE_WORDS_N, UNIQUE_LABELS_N).to(device)\n",
        "temp = 4\n",
        "\n",
        "best_val_loss, best_model = distill_train_eval_loop(small_model, big_model, temp,\n",
        "                                            train_dataset=train_dataset,\n",
        "                                            val_dataset=test_dataset,\n",
        "                                            lr=1e-4,\n",
        "                                            epoch_n=20,\n",
        "                                            batch_size=32)"
      ],
      "id": "ordinary-solomon"
    },
    {
      "cell_type": "code",
      "execution_count": null,
      "metadata": {
        "id": "USFW_BgPfJLy"
      },
      "outputs": [],
      "source": [
        "train_pred = predict_with_model(best_model, train_dataset)\n",
        "\n",
        "train_loss = F.cross_entropy(torch.from_numpy(train_pred),\n",
        "                             torch.from_numpy(train_source['target']).long())\n",
        "\n",
        "print('Среднее значение функции потерь на обучении', float(train_loss))\n",
        "print('Доля верных ответов', accuracy_score(train_source['target'], train_pred.argmax(-1)))\n",
        "print()\n",
        "\n",
        "\n",
        "\n",
        "test_pred = predict_with_model(best_model, test_dataset)\n",
        "\n",
        "test_loss = F.cross_entropy(torch.from_numpy(test_pred),\n",
        "                            torch.from_numpy(test_source['target']).long())\n",
        "\n",
        "print('Среднее значение функции потерь на валидации', float(test_loss))\n",
        "print('Доля верных ответов', accuracy_score(test_source['target'], test_pred.argmax(-1)))"
      ],
      "id": "USFW_BgPfJLy"
    }
  ],
  "metadata": {
    "accelerator": "GPU",
    "colab": {
      "collapsed_sections": [],
      "name": "distill_dnn.ipynb",
      "provenance": []
    },
    "kernelspec": {
      "display_name": "Python 3",
      "language": "python",
      "name": "python3"
    },
    "language_info": {
      "codemirror_mode": {
        "name": "ipython",
        "version": 3
      },
      "file_extension": ".py",
      "mimetype": "text/x-python",
      "name": "python",
      "nbconvert_exporter": "python",
      "pygments_lexer": "ipython3",
      "version": "3.6.9"
    }
  },
  "nbformat": 4,
  "nbformat_minor": 5
}